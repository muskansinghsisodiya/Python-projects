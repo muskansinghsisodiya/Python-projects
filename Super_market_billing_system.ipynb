{
 "cells": [
  {
   "cell_type": "code",
   "execution_count": null,
   "id": "35cb7b1c-a702-4778-bcc3-c82f47067dec",
   "metadata": {},
   "outputs": [
    {
     "name": "stdout",
     "output_type": "stream",
     "text": [
      "----------------------------------------\n",
      "======= welcome to Supermarket ======= \n",
      "----------------------------------------\n"
     ]
    }
   ],
   "source": [
    "#Super Market Billing System \n",
    "\n",
    "#THIS WHILE_TRUE_LOOP HERE REPEATS THE WHOLE PROCESS.\n",
    "\n",
    "while True:\n",
    "    amount = 0\n",
    "    print (\"-\"*40) \n",
    "    print(\"======= welcome to Supermarket ======= \")\n",
    "    print (\"-\"*40) \n",
    "    name = input(\"Enter name:-\")\n",
    "    phone_no = input(\"Enter phone no:-\")\n",
    "    date = input(\"Enter Date(dd/mm/yy):-\")\n",
    "    print (\"-\"*40)\n",
    "    print(\"======= order details =======\")\n",
    "    print (\"-\"*40) \n",
    "\n",
    "    #ALL INPUTS OF ITEM_NAME, PRICE, QNT ,AMOUNT\n",
    "    \n",
    "    while True:        #THIS IS HERE FOR ADDING MORE ITEMS IN CART\n",
    "            item_name = str(input(\"Enter item name:-\"))\n",
    "            price = float(input(f\"Enter Price of {item_name}:-\"))\n",
    "            quantity= float(input(f\"Enter quantity of {item_name}:-\"))\n",
    "            amount += price*quantity\n",
    "            next_item =input(\"Do you want to add more items(yes/no):-\")\n",
    "            if next_item == 'no':\n",
    "              break\n",
    "                \n",
    "    #CALCULATING DISCOUNT AMOUNT AUTOMATICALLY HERE (IF THE AMOUNT >=500)   \n",
    "    \n",
    "    if amount >= 1000:\n",
    "        discount = amount * 0.10 \n",
    "    elif amount >= 500:\n",
    "        discount = amount * 0.05\n",
    "    elif amount >= 200:\n",
    "        discount >= amount * 0.01\n",
    "    else: \n",
    "        discount = 0.00\n",
    "    final_amount = amount - discount\n",
    "    \n",
    "    #THIS PART SHOWS THE OVERALL BILLING CONDITION\n",
    "    \n",
    "    print (\"-\"*40) \n",
    "    print (\"=======Generating bill=======\")\n",
    "    print (\"-\"*40) \n",
    "    print (\"Date:-\",date)\n",
    "    print (\"Name:-\",name)\n",
    "    print (\"Phone on:-\",phone_no)\n",
    "    print (\"Total amount:-\", amount)\n",
    "    print (\"Discount\",discount)\n",
    "    print (\"Final amount\",final_amount)\n",
    "    print (\"-\"*40)\n",
    "    next_person =input(\"Next person(yes/no)\")\n",
    "    if next_person =='no':\n",
    "        break"
   ]
  },
  {
   "cell_type": "code",
   "execution_count": null,
   "id": "7a419ca6-1475-4ac7-968d-0ac58c80c8a5",
   "metadata": {},
   "outputs": [],
   "source": []
  }
 ],
 "metadata": {
  "kernelspec": {
   "display_name": "Python 3 (ipykernel)",
   "language": "python",
   "name": "python3"
  },
  "language_info": {
   "codemirror_mode": {
    "name": "ipython",
    "version": 3
   },
   "file_extension": ".py",
   "mimetype": "text/x-python",
   "name": "python",
   "nbconvert_exporter": "python",
   "pygments_lexer": "ipython3",
   "version": "3.13.7"
  }
 },
 "nbformat": 4,
 "nbformat_minor": 5
}
